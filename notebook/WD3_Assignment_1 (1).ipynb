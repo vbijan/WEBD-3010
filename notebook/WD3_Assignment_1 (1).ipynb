{
 "cells": [
  {
   "cell_type": "markdown",
   "id": "09458fd2",
   "metadata": {},
   "source": [
    "# Frist Program in Python\n",
    "## 1. Write your first Program Print  \"Hello World !\"\n",
    "## 2. Print the version of Python.  (Note: you can use google!) "
   ]
  },
  {
   "cell_type": "code",
   "execution_count": null,
   "id": "6569d7c7",
   "metadata": {},
   "outputs": [],
   "source": []
  },
  {
   "cell_type": "code",
   "execution_count": null,
   "id": "93a3a103",
   "metadata": {},
   "outputs": [],
   "source": []
  },
  {
   "cell_type": "markdown",
   "id": "7bb23398",
   "metadata": {},
   "source": [
    "# Datatypes in Python\n",
    "## 3.Find the datatype of the following values: (Note: use \"type\" built-in function)\n",
    "### 11,    22.23,     \"Hello World\", True"
   ]
  },
  {
   "cell_type": "code",
   "execution_count": null,
   "id": "0145f9cb",
   "metadata": {},
   "outputs": [],
   "source": []
  },
  {
   "cell_type": "code",
   "execution_count": null,
   "id": "c70ac188",
   "metadata": {},
   "outputs": [],
   "source": []
  },
  {
   "cell_type": "code",
   "execution_count": null,
   "id": "a6c49e25",
   "metadata": {},
   "outputs": [],
   "source": []
  },
  {
   "cell_type": "code",
   "execution_count": null,
   "id": "013d1734",
   "metadata": {},
   "outputs": [],
   "source": []
  },
  {
   "cell_type": "markdown",
   "id": "6ff4838a",
   "metadata": {},
   "source": [
    "# Typecast in Python\n",
    "## 4. typecast the above data i.e. 'integer' into 'float' and 'float' into 'int', \n",
    "## 5. typecast 'boolean' \"true, false\" into 'int' and 'float' \n",
    "## 6. typecast 0 1 into boolean and see the results"
   ]
  },
  {
   "cell_type": "code",
   "execution_count": null,
   "id": "311a28bf",
   "metadata": {},
   "outputs": [],
   "source": []
  },
  {
   "cell_type": "code",
   "execution_count": null,
   "id": "9880a6c0-e775-42c6-ba48-1ac20981ef6b",
   "metadata": {},
   "outputs": [],
   "source": []
  },
  {
   "cell_type": "code",
   "execution_count": null,
   "id": "e6df780a-745f-4b23-ab30-73b85459d409",
   "metadata": {},
   "outputs": [],
   "source": []
  },
  {
   "cell_type": "code",
   "execution_count": null,
   "id": "c6cb0e74",
   "metadata": {},
   "outputs": [],
   "source": []
  },
  {
   "cell_type": "markdown",
   "id": "42219bca",
   "metadata": {},
   "source": [
    "# Variables and Expressions (all mathematical operations can be used)\n",
    "## 7. Declare 2 integer variables and divide them. \n",
    "### Output should be displayed as an integer. (Note: do NOT use typecast)"
   ]
  },
  {
   "cell_type": "code",
   "execution_count": null,
   "id": "e47cc5cc",
   "metadata": {},
   "outputs": [],
   "source": []
  },
  {
   "cell_type": "markdown",
   "id": "d5d2cd59",
   "metadata": {},
   "source": [
    "## 8. Find out the System Setting about float type. (information about float)"
   ]
  },
  {
   "cell_type": "code",
   "execution_count": null,
   "id": "09aedb86",
   "metadata": {},
   "outputs": [],
   "source": []
  },
  {
   "cell_type": "markdown",
   "id": "d50757fb",
   "metadata": {},
   "source": [
    "# Strings\n",
    "## 9. Print the length of the string below.\n",
    "## 10. Print the first 'word' in the string using negative indexing. (Print RRC)\n",
    "## 11. \"Slice\" the string and display \"Polytech\".\n",
    "## 12. Use the concept of \"Stride\" and display \"Polytech\" backwards. (Print \"hcetyloP\")\n",
    "## 13. Change the string into uppercase.\n",
    "## 14. Replace \"Polytech\" with \"Polytechnic\". (Note: use replace function)"
   ]
  },
  {
   "cell_type": "code",
   "execution_count": 2,
   "id": "4daac2e1",
   "metadata": {},
   "outputs": [],
   "source": [
    "school = 'RRC Polytech'\n"
   ]
  },
  {
   "cell_type": "markdown",
   "id": "6a54ae23",
   "metadata": {},
   "source": [
    "# RegEx in python (google how to import RegEx in python)\n",
    "## 15. Define the search \"pattern\" to search RRC in the above string(school) and display \"Match Found\" or \"Match Not Found\" accordingly using an if else statement.\n"
   ]
  },
  {
   "cell_type": "code",
   "execution_count": 5,
   "id": "f88df01c",
   "metadata": {},
   "outputs": [],
   "source": [
    "# import statement will go here\n",
    "\n",
    "# Defining the pattern to search for\n",
    "pattern = r\"RRC\"\n",
    "\n",
    "# Use the search() function to seach for the pattern in the string\n",
    "result = \n",
    "\n",
    "# Check if a match is found and print accordingly.\n"
   ]
  },
  {
   "cell_type": "markdown",
   "id": "d57512f4",
   "metadata": {},
   "source": [
    "# For Loop\n",
    "## 16. Use loops to print out the elements in the list:"
   ]
  },
  {
   "cell_type": "code",
   "execution_count": 6,
   "id": "8ec177cc",
   "metadata": {},
   "outputs": [],
   "source": [
    "colours = [\"red\",\"green\",\"blue\"]\n"
   ]
  },
  {
   "cell_type": "markdown",
   "id": "30865427",
   "metadata": {},
   "source": [
    "# While Loop\n",
    "## 17. Write a while loop to display the values of the Rating stored in the list PlayListRatings. If the score is less than 6, exit the loop.\n",
    "### PlayListRatings = [10, 9.5, 10, 8, 7.5, 5, 10, 10]"
   ]
  },
  {
   "cell_type": "code",
   "execution_count": 7,
   "id": "60f0ef2e",
   "metadata": {},
   "outputs": [],
   "source": [
    "PlayListRatings = [10, 9.5, 10, 8, 7.5, 5, 10, 10]\n",
    "i = 0\n",
    "rating = PlayListRatings[0]\n",
    "# write while loop logic to achieve above requirement\n",
    "     "
   ]
  },
  {
   "cell_type": "markdown",
   "id": "dc3cae39",
   "metadata": {},
   "source": [
    "# Functions\n",
    "## 18. Write a function that calculates and returns the square of a parameter. Below is the example of how to declare a function\n",
    "### def function_name(parameter_name):"
   ]
  },
  {
   "cell_type": "code",
   "execution_count": null,
   "id": "8882f858",
   "metadata": {},
   "outputs": [],
   "source": []
  },
  {
   "cell_type": "markdown",
   "id": "7b263cd0",
   "metadata": {},
   "source": [
    "# Bonus\n",
    "## 19. Demonstrate something cool you learned to do with Python while completing this worksheet, and write about why you thought it was cool in a comment."
   ]
  },
  {
   "cell_type": "code",
   "execution_count": null,
   "id": "75471436",
   "metadata": {},
   "outputs": [],
   "source": []
  }
 ],
 "metadata": {
  "kernelspec": {
   "display_name": "Python 3 (ipykernel)",
   "language": "python",
   "name": "python3"
  },
  "language_info": {
   "codemirror_mode": {
    "name": "ipython",
    "version": 3
   },
   "file_extension": ".py",
   "mimetype": "text/x-python",
   "name": "python",
   "nbconvert_exporter": "python",
   "pygments_lexer": "ipython3",
   "version": "3.13.3"
  }
 },
 "nbformat": 4,
 "nbformat_minor": 5
}
