{
 "cells": [
  {
   "cell_type": "code",
   "execution_count": null,
   "id": "69bf791e-c54f-430f-bb3f-367ae5679745",
   "metadata": {},
   "outputs": [],
   "source": []
  }
 ],
 "metadata": {
  "kernelspec": {
   "display_name": "",
   "name": ""
  },
  "language_info": {
   "name": ""
  }
 },
 "nbformat": 4,
 "nbformat_minor": 5
}
